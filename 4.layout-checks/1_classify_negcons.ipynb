{
 "cells": [
  {
   "attachments": {},
   "cell_type": "markdown",
   "metadata": {},
   "source": [
    "## Detect negative controls"
   ]
  },
  {
   "cell_type": "code",
   "execution_count": 32,
   "metadata": {},
   "outputs": [],
   "source": [
    "import pandas as pd"
   ]
  },
  {
   "cell_type": "code",
   "execution_count": 33,
   "metadata": {},
   "outputs": [],
   "source": [
    "profiles = pd.read_parquet(\"../1.load/output/raw_filtered_profiles.parquet\")\n",
    "profiles.head()"
   ]
  },
  {
   "cell_type": "code",
   "execution_count": null,
   "metadata": {},
   "outputs": [],
   "source": [
    "profiles.shape"
   ]
  },
  {
   "cell_type": "code",
   "execution_count": null,
   "metadata": {},
   "outputs": [],
   "source": [
    "# Create a new column Metadata_SymbolX which is equal to Metadata_Symbol, by only if the values are in the list `selected_negcons`, otherwise it is set to \"other\"\n",
    "\n",
    "selected_negcons = [\"BFP\", \"HcRed\", \"LUCIFERASE\"]\n",
    "profiles[\"Metadata_SymbolX\"] = profiles.Metadata_Symbol\n",
    "profiles.loc[\n",
    "    ~profiles.Metadata_Symbol.isin(selected_negcons), \"Metadata_SymbolX\"\n",
    "] = \"other\"\n",
    "profiles.loc[\n",
    "    profiles.Metadata_Symbol.isin(selected_negcons), \"Metadata_SymbolX\"\n",
    "] = \"negcon\"\n",
    "\n",
    "# Now report counts of Metadata_SymbolX\n",
    "\n",
    "profiles.Metadata_SymbolX.value_counts()"
   ]
  },
  {
   "cell_type": "code",
   "execution_count": null,
   "metadata": {},
   "outputs": [],
   "source": [
    "# Keep only `Metadata_SymbolX` and columns that start with `Cells_` or `Nuclei_` or `Cytoplasm_` or `Image_`\n",
    "\n",
    "prefixes = [\"Cells_\", \"Nuclei_\", \"Cytoplasm_\", \"Image_\"]\n",
    "profiles = profiles[\n",
    "    [\"Metadata_SymbolX\"]\n",
    "    + [\n",
    "        col\n",
    "        for col in profiles.columns\n",
    "        if any(col.startswith(prefix) for prefix in prefixes)\n",
    "    ]\n",
    "]"
   ]
  },
  {
   "cell_type": "code",
   "execution_count": null,
   "metadata": {},
   "outputs": [],
   "source": [
    "import pandas as pd\n",
    "from sklearn.model_selection import train_test_split\n",
    "from sklearn.ensemble import RandomForestClassifier\n",
    "from sklearn.metrics import classification_report, confusion_matrix\n",
    "from sklearn.utils import resample"
   ]
  },
  {
   "cell_type": "code",
   "execution_count": null,
   "metadata": {},
   "outputs": [],
   "source": [
    "# Define features and target\n",
    "X = profiles.drop(\"Metadata_SymbolX\", axis=1)\n",
    "y = profiles[\"Metadata_SymbolX\"]\n",
    "\n",
    "# Split the data into a training set and a test set\n",
    "X_train, X_test, y_train, y_test = train_test_split(\n",
    "    X, y, test_size=0.2, random_state=42\n",
    ")\n",
    "\n",
    "# Concatenate our training data back together\n",
    "X = pd.concat([X_train, y_train], axis=1)\n",
    "\n",
    "# Separate majority and minority classes in the training dataset\n",
    "df_majority = X[X.Metadata_SymbolX == \"other\"]\n",
    "df_minority = X[X.Metadata_SymbolX == \"negcon\"]\n",
    "\n",
    "# Downsample majority class and upsample minority class\n",
    "df_majority_downsampled = resample(\n",
    "    df_majority,\n",
    "    replace=False,  # sample without replacement\n",
    "    n_samples=3200,  # downsampled number\n",
    "    random_state=123,\n",
    ")  # reproducible results\n",
    "\n",
    "df_minority_upsampled = resample(\n",
    "    df_minority,\n",
    "    replace=True,  # sample with replacement\n",
    "    n_samples=3200,  # upsampled number\n",
    "    random_state=123,\n",
    ")  # reproducible results\n",
    "\n",
    "# Combine majority and minority class in the training dataset\n",
    "df_balanced = pd.concat([df_majority_downsampled, df_minority_upsampled])\n",
    "\n",
    "# Display new class counts\n",
    "print(df_balanced.Metadata_SymbolX.value_counts())\n",
    "\n",
    "# Get our features and labels back\n",
    "y_train = df_balanced.Metadata_SymbolX\n",
    "X_train = df_balanced.drop(\"Metadata_SymbolX\", axis=1)\n",
    "\n",
    "# Continue with training and evaluation as before\n",
    "clf = RandomForestClassifier(n_estimators=100, random_state=42)\n",
    "clf.fit(X_train, y_train)\n",
    "y_pred = clf.predict(X_test)\n",
    "\n",
    "print(confusion_matrix(y_test, y_pred))\n",
    "print(classification_report(y_test, y_pred))"
   ]
  }
 ],
 "metadata": {
  "kernelspec": {
   "display_name": "position-effect-correction-ckMVtFsQ-py3.9",
   "language": "python",
   "name": "python3"
  },
  "language_info": {
   "codemirror_mode": {
    "name": "ipython",
    "version": 3
   },
   "file_extension": ".py",
   "mimetype": "text/x-python",
   "name": "python",
   "nbconvert_exporter": "python",
   "pygments_lexer": "ipython3",
   "version": "3.11.2"
  },
  "orig_nbformat": 4
 },
 "nbformat": 4,
 "nbformat_minor": 2
}
